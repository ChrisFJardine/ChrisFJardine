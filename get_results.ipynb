{
  "nbformat": 4,
  "nbformat_minor": 0,
  "metadata": {
    "colab": {
      "provenance": [],
      "collapsed_sections": [],
      "authorship_tag": "ABX9TyOlNwWAKwjZa11TDdXXRpIM",
      "include_colab_link": true
    },
    "kernelspec": {
      "name": "python3",
      "display_name": "Python 3"
    },
    "language_info": {
      "name": "python"
    }
  },
  "cells": [
    {
      "cell_type": "markdown",
      "metadata": {
        "id": "view-in-github",
        "colab_type": "text"
      },
      "source": [
        "<a href=\"https://colab.research.google.com/github/ChrisFJardine/ChrisFJardine/blob/main/get_results.ipynb\" target=\"_parent\"><img src=\"https://colab.research.google.com/assets/colab-badge.svg\" alt=\"Open In Colab\"/></a>"
      ]
    },
    {
      "cell_type": "code",
      "execution_count": null,
      "metadata": {
        "colab": {
          "base_uri": "https://localhost:8080/"
        },
        "id": "gqxM49_jxYIB",
        "outputId": "8c5d8b08-25fa-49ae-d5c7-d97873003453"
      },
      "outputs": [
        {
          "output_type": "stream",
          "name": "stdout",
          "text": [
            "Mounted at /content/drive\n"
          ]
        }
      ],
      "source": [
        "#Map Google drive\n",
        "from google.colab import drive\n",
        "drive.mount('/content/drive')"
      ]
    },
    {
      "cell_type": "code",
      "source": [
        "import requests\n",
        "import time\n",
        "from datetime import datetime\n",
        "from bs4 import BeautifulSoup\n",
        "from decimal import Decimal\n",
        "import pandas as pd"
      ],
      "metadata": {
        "id": "4j_68nLv3t0v"
      },
      "execution_count": 1,
      "outputs": []
    },
    {
      "cell_type": "code",
      "source": [
        "#def getPage(url):\n",
        "  #page = requests.get(\"https://theautomatedclub.com/3CRC/Result/Details/2\")\n",
        "page = requests.get(\"https://theautomatedclub.com/3CRC/Result/Details/2\")\n",
        "  #return(page)\n",
        "#mydivs = resultPage.findAll(\"h2\", {\"h2\"})\n",
        "#print(mydivs)"
      ],
      "metadata": {
        "id": "ga8AEbosCRXl"
      },
      "execution_count": 2,
      "outputs": []
    },
    {
      "cell_type": "code",
      "source": [
        "def getSoup(page):\n",
        "  soup = BeautifulSoup(page.text, 'html5lib')\n",
        "  return (soup)\n"
      ],
      "metadata": {
        "id": "CyUJ_DjIjhnJ"
      },
      "execution_count": 3,
      "outputs": []
    },
    {
      "cell_type": "code",
      "source": [
        "def getCourse(soup):\n",
        "  course = soup.find(\"h2\").text\n",
        "  #print(course)\n",
        "  return(course)"
      ],
      "metadata": {
        "id": "BZmA-8VXOK7K"
      },
      "execution_count": 4,
      "outputs": []
    },
    {
      "cell_type": "code",
      "source": [
        "def getRunDate(soup):\n",
        "  dateString = soup.find(\"h4\").text\n",
        "  runDate = datetime.strptime(dateString, '%d/%m/%Y').date()\n",
        "  #print(runDate)\n",
        "  return(runDate)"
      ],
      "metadata": {
        "id": "ulZHEuWRjb_B"
      },
      "execution_count": 5,
      "outputs": []
    },
    {
      "cell_type": "code",
      "source": [
        "def getRunDetails(table):\n",
        "  runDetails = pd.DataFrame(columns = ['runClassID','runType','dist'])\n",
        "  headers = table.find_all('th')\n",
        "  for header in headers:\n",
        "    runClassID, runType, dist = None, None, None\n",
        "    if 'Run' in header.get_text():\n",
        "      runClassID = header.img['class'][0]\n",
        "      headerString = header.get_text().split()\n",
        "      runType = (headerString[headerString.index('Run') -1])\n",
        "      for word in headerString:\n",
        "        if 'km' in word:\n",
        "          dist  = Decimal(word.replace('km','').replace(')','')) \n",
        "    details =  [runClassID, runType, dist]\n",
        "    if runClassID is not None:\n",
        "      runDetails = runDetails.append(pd.DataFrame([details], \n",
        "        columns=['runClassID','runType','dist']), \n",
        "        ignore_index=True)\n",
        "      rundetails = runDetails.append(details)\n",
        "  return(runDetails)"
      ],
      "metadata": {
        "id": "AvkQKqRN1HPd"
      },
      "execution_count": 6,
      "outputs": []
    },
    {
      "cell_type": "code",
      "source": [
        "def addCourseAndDate(runDetails):\n",
        "  "
      ],
      "metadata": {
        "id": "DseC_1bopAwN"
      },
      "execution_count": null,
      "outputs": []
    },
    {
      "cell_type": "code",
      "source": [
        "soup = getSoup(page)\n",
        "course = getCourse(soup).replace('Results','')\n",
        "runDate = getRunDate(soup)\n",
        "table = soup.find('table', attrs={'class':'table'})\n",
        "runDetails = getRunDetails(table)\n",
        "runDetails['course'] = course\n",
        "runDetails['runDate'] = runDate\n",
        "print(runDetails)"
      ],
      "metadata": {
        "colab": {
          "base_uri": "https://localhost:8080/"
        },
        "id": "2uQdw_cTkdFE",
        "outputId": "4eaee6e0-5a23-4808-938d-cac780dfa3f0"
      },
      "execution_count": 14,
      "outputs": [
        {
          "output_type": "stream",
          "name": "stdout",
          "text": [
            "  runClassID runType  dist              course     runDate\n",
            "0      ig1-0    Long  9.44  Peace Park,Weston   2017-09-13\n",
            "1      ig1-1  Medium   4.8  Peace Park,Weston   2017-09-13\n",
            "2      ig1-2   Short   3.1  Peace Park,Weston   2017-09-13\n"
          ]
        }
      ]
    },
    {
      "cell_type": "code",
      "source": [],
      "metadata": {
        "colab": {
          "base_uri": "https://localhost:8080/"
        },
        "id": "U-iYh3ZWql6E",
        "outputId": "db4b4f8d-4a69-492d-be6d-6b4d3857581f"
      },
      "execution_count": 13,
      "outputs": [
        {
          "output_type": "stream",
          "name": "stdout",
          "text": [
            "  runClassID runType  dist                     course     runDate\n",
            "0      ig1-0    Long  9.44  Peace Park,Weston Results  2017-09-13\n",
            "1      ig1-1  Medium   4.8  Peace Park,Weston Results  2017-09-13\n",
            "2      ig1-2   Short   3.1  Peace Park,Weston Results  2017-09-13\n"
          ]
        }
      ]
    },
    {
      "cell_type": "code",
      "source": [
        "print(course)"
      ],
      "metadata": {
        "colab": {
          "base_uri": "https://localhost:8080/"
        },
        "id": "S4dmHz0zq8NY",
        "outputId": "3b5d00b0-54ee-4dec-d1f6-eeb91229d346"
      },
      "execution_count": 12,
      "outputs": [
        {
          "output_type": "stream",
          "name": "stdout",
          "text": [
            "Peace Park,Weston Results\n"
          ]
        }
      ]
    },
    {
      "cell_type": "code",
      "source": [
        "eventList = soup.find_all(\"th\")\n",
        "runClass = 1\n",
        "runType = 'None'\n",
        "for event in eventList:\n",
        "  words = event.get_text().split()\n",
        "  if 'Run' in words[1:]:\n",
        "    runType = (words[words.index('Run') -1])\n",
        "  for word in words:\n",
        "    if 'km' in word:\n",
        "      dist  = Decimal(word.replace('km','').replace(')',''))\n",
        "  print (runType + str(dist))"
      ],
      "metadata": {
        "id": "MLzs300Zkzgs"
      },
      "execution_count": null,
      "outputs": []
    },
    {
      "cell_type": "code",
      "source": [
        "urlbase = \"https://theautomatedclub.com/3CRC/Result/Details/\"\n",
        "resultPages = []\n",
        "for i in range (10):\n",
        "  url = urlbase + str(i)\n",
        "  try:\n",
        "    page = requests.get(url)\n",
        "    print('Request #' + str(i) + ' : retrieved in  ' + str(page.elapsed.total_seconds()) + ' seconds')\n",
        "  except:\n",
        "    print('Exception ' + str(page.status_code))  \n",
        "  if page.status_code == 200:\n",
        "      print('page status ' + str(page.status_code) + ' ' + url)\n",
        "      resultPage = BeautifulSoup(page.text, 'lxml')\n",
        "      time.sleep(1)"
      ],
      "metadata": {
        "colab": {
          "base_uri": "https://localhost:8080/",
          "height": 293
        },
        "id": "FOM5jY5axa9a",
        "outputId": "fd807a44-8ac5-4b8d-f2b8-7efdf665c4b4"
      },
      "execution_count": null,
      "outputs": [
        {
          "output_type": "stream",
          "name": "stdout",
          "text": [
            "Request #0 : retrieved in  0.332749 seconds\n",
            "Request #1 : retrieved in  0.289564 seconds\n",
            "Request #2 : retrieved in  0.706533 seconds\n",
            "page status 200 https://theautomatedclub.com/3CRC/Result/Details/2\n"
          ]
        },
        {
          "output_type": "error",
          "ename": "TypeError",
          "evalue": "ignored",
          "traceback": [
            "\u001b[0;31m---------------------------------------------------------------------------\u001b[0m",
            "\u001b[0;31mTypeError\u001b[0m                                 Traceback (most recent call last)",
            "\u001b[0;32m<ipython-input-5-d7f7f0fac993>\u001b[0m in \u001b[0;36m<module>\u001b[0;34m\u001b[0m\n\u001b[1;32m     11\u001b[0m       \u001b[0mprint\u001b[0m\u001b[0;34m(\u001b[0m\u001b[0;34m'page status '\u001b[0m \u001b[0;34m+\u001b[0m \u001b[0mstr\u001b[0m\u001b[0;34m(\u001b[0m\u001b[0mpage\u001b[0m\u001b[0;34m.\u001b[0m\u001b[0mstatus_code\u001b[0m\u001b[0;34m)\u001b[0m \u001b[0;34m+\u001b[0m \u001b[0;34m' '\u001b[0m \u001b[0;34m+\u001b[0m \u001b[0murl\u001b[0m\u001b[0;34m)\u001b[0m\u001b[0;34m\u001b[0m\u001b[0;34m\u001b[0m\u001b[0m\n\u001b[1;32m     12\u001b[0m       \u001b[0mresultPages\u001b[0m\u001b[0;34m.\u001b[0m\u001b[0mappend\u001b[0m\u001b[0;34m(\u001b[0m\u001b[0mpage\u001b[0m\u001b[0;34m)\u001b[0m\u001b[0;34m\u001b[0m\u001b[0;34m\u001b[0m\u001b[0m\n\u001b[0;32m---> 13\u001b[0;31m       \u001b[0mprint\u001b[0m\u001b[0;34m(\u001b[0m\u001b[0;34m'x'\u001b[0m \u001b[0;34m+\u001b[0m \u001b[0mpage\u001b[0m\u001b[0;34m)\u001b[0m\u001b[0;34m\u001b[0m\u001b[0;34m\u001b[0m\u001b[0m\n\u001b[0m\u001b[1;32m     14\u001b[0m       \u001b[0mtime\u001b[0m\u001b[0;34m.\u001b[0m\u001b[0msleep\u001b[0m\u001b[0;34m(\u001b[0m\u001b[0;36m1\u001b[0m\u001b[0;34m)\u001b[0m\u001b[0;34m\u001b[0m\u001b[0;34m\u001b[0m\u001b[0m\n",
            "\u001b[0;31mTypeError\u001b[0m: can only concatenate str (not \"Response\") to str"
          ]
        }
      ]
    }
  ]
}