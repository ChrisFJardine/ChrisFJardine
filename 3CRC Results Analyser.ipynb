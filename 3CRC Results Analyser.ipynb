{
  "nbformat": 4,
  "nbformat_minor": 0,
  "metadata": {
    "colab": {
      "provenance": [],
      "collapsed_sections": [],
      "authorship_tag": "ABX9TyOqPd3h0HyVlXkrm4K0QfHo",
      "include_colab_link": true
    },
    "kernelspec": {
      "name": "python3",
      "display_name": "Python 3"
    },
    "language_info": {
      "name": "python"
    }
  },
  "cells": [
    {
      "cell_type": "markdown",
      "metadata": {
        "id": "view-in-github",
        "colab_type": "text"
      },
      "source": [
        "<a href=\"https://colab.research.google.com/github/ChrisFJardine/ChrisFJardine/blob/main/3CRC%20Results%20Analyser.ipynb\" target=\"_parent\"><img src=\"https://colab.research.google.com/assets/colab-badge.svg\" alt=\"Open In Colab\"/></a>"
      ]
    },
    {
      "cell_type": "code",
      "execution_count": null,
      "metadata": {
        "colab": {
          "base_uri": "https://localhost:8080/"
        },
        "id": "gqxM49_jxYIB",
        "outputId": "8c5d8b08-25fa-49ae-d5c7-d97873003453"
      },
      "outputs": [
        {
          "output_type": "stream",
          "name": "stdout",
          "text": [
            "Mounted at /content/drive\n"
          ]
        }
      ],
      "source": [
        "#Map Google drive\n",
        "from google.colab import drive\n",
        "drive.mount('/content/drive')"
      ]
    },
    {
      "cell_type": "code",
      "source": [
        "import requests\n",
        "import time\n",
        "from datetime import datetime\n",
        "from bs4 import BeautifulSoup\n",
        "from decimal import Decimal\n",
        "import pandas as pd"
      ],
      "metadata": {
        "id": "4j_68nLv3t0v"
      },
      "execution_count": 1,
      "outputs": []
    },
    {
      "cell_type": "code",
      "source": [
        "def getSoup(page):\n",
        "  soup = BeautifulSoup(page.text, 'html5lib')\n",
        "  return (soup)\n"
      ],
      "metadata": {
        "id": "CyUJ_DjIjhnJ"
      },
      "execution_count": 2,
      "outputs": []
    },
    {
      "cell_type": "code",
      "source": [
        "def getRunDate(soup):\n",
        "  dateString = soup.find('h4').text\n",
        "  runDate = datetime.strptime(dateString, '%d/%m/%Y').date()\n",
        "  return(runDate)"
      ],
      "metadata": {
        "id": "ulZHEuWRjb_B"
      },
      "execution_count": 5,
      "outputs": []
    },
    {
      "cell_type": "code",
      "source": [
        "def getCourse(soup):\n",
        "  if soup.find('h2')is None:\n",
        "    print('error in getCourse')\n",
        "    course = 'getCourse Error'\n",
        "  else:\n",
        "      course = soup.find('h2').text\n",
        "  return(course)"
      ],
      "metadata": {
        "id": "BZmA-8VXOK7K"
      },
      "execution_count": 6,
      "outputs": []
    },
    {
      "cell_type": "code",
      "source": [
        "def getRunDetails(soup):\n",
        "  columns = ['Athlete Place','Athlete Name', 'Athlete Gender','Run Time','Avg Pace','Points', 'Run ClassID','Run Length','Run Distance','Run Location','Run Date']\n",
        "  runDetails = pd.DataFrame(columns = columns)\n",
        "  course = getCourse(soup).replace('Results','')\n",
        "  runDate = getRunDate(soup)\n",
        "  for record in soup.find('table', attrs={'class':'table'}).find_all(['tr']):\n",
        "    if record.find('img') is not None:    \n",
        "      runClassID = record.find('img')['class'][0]\n",
        "      headerString = record.get_text().split()\n",
        "      if 'Run' in headerString:\n",
        "        runType = (headerString[headerString.index('Run') -1])\n",
        "        for word in headerString:\n",
        "          if 'km' in word:\n",
        "            dist  = Decimal(word.replace('km','').replace(')','')) \n",
        "    row = [td.text for td in record.find_all(['td'])]\n",
        "    row.append(runClassID)\n",
        "    row.append(runType)\n",
        "    row.append(dist)\n",
        "    row.append(course)\n",
        "    row.append(runDate)\n",
        "    if len(row) == 11:\n",
        "      runDetails.loc[len(runDetails)] = row\n",
        "  return(runDetails) \n"
      ],
      "metadata": {
        "id": "n--5kH-g_iMU"
      },
      "execution_count": 7,
      "outputs": []
    },
    {
      "cell_type": "code",
      "source": [
        "def get_pages(urlbase, startPageNo, pagesToCheck):\n",
        "  columns = ['Athlete Place','Athlete Name', 'Athlete Gender','Run Time','Avg Pace','Points', 'Run ClassID','Run Length','Run Distance','Run Location','Run Date']\n",
        "  allResults = pd.DataFrame(columns = columns)\n",
        "  for i in range (startPageNo, startPageNo + pagesToCheck):          #150 is start of 2022 season. Checks for 50 pages\n",
        "    url = urlbase + str(i)\n",
        "    try:\n",
        "      page = requests.get(url)\n",
        "    except:\n",
        "      print('Exception ' + str(page.status_code))  \n",
        "    if page.status_code == 200:\n",
        "        soup = getSoup(page)\n",
        "        runDetails = getRunDetails(soup)\n",
        "        allResults = pd.concat([allResults, runDetails])\n",
        "        time.sleep(1)\n",
        "  return(allResults)"
      ],
      "metadata": {
        "id": "FOM5jY5axa9a"
      },
      "execution_count": 14,
      "outputs": []
    },
    {
      "cell_type": "code",
      "source": [
        "urlbase = \"https://theautomatedclub.com/3CRC/Result/Details/\"\n",
        "results = get_pages(urlbase, 150, 20)\n",
        "results = results.drop_duplicates()"
      ],
      "metadata": {
        "id": "2uQdw_cTkdFE"
      },
      "execution_count": 41,
      "outputs": []
    },
    {
      "cell_type": "code",
      "source": [
        "display(results[results['Athlete Name'].str.contains(\"Chris Jardine\")])"
      ],
      "metadata": {
        "id": "DZxWJdxZK48M"
      },
      "execution_count": null,
      "outputs": []
    },
    {
      "cell_type": "markdown",
      "source": [],
      "metadata": {
        "id": "HpLuSfSz9FAS"
      }
    }
  ]
}